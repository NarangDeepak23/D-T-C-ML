{
 "cells": [
  {
   "cell_type": "code",
   "execution_count": 1,
   "id": "3bd9d9d3",
   "metadata": {},
   "outputs": [],
   "source": [
    "# IN Decision Tree; a tree like model of decisions is formed with all possible\n",
    "# consequences\n",
    "# Need of Data cleaning is not required in DTC\n",
    "# no contraint on type of data on decision tree\n",
    "# However, overfitting leads to noise amplification in model\n",
    "# sometimes, it becomes difficult to work upon new test data leading to poor efficiency\n",
    "# this happens due to excess of data\n",
    "\n",
    "\n",
    "#Gain= Entropy(root)-Entropy(leaf)\n"
   ]
  },
  {
   "cell_type": "code",
   "execution_count": 2,
   "id": "1b88d9ac",
   "metadata": {},
   "outputs": [],
   "source": [
    "import numpy as np"
   ]
  },
  {
   "cell_type": "code",
   "execution_count": 3,
   "id": "6883da5b",
   "metadata": {},
   "outputs": [],
   "source": [
    "import pandas as pd\n",
    "import seaborn as sns\n",
    "import matplotlib.pyplot as plt"
   ]
  },
  {
   "cell_type": "code",
   "execution_count": 4,
   "id": "da774272",
   "metadata": {},
   "outputs": [],
   "source": [
    "data=pd.read_csv(r\"D:\\Py\\Colab Work\\ML\\Decision Tree\\heart.csv\")"
   ]
  },
  {
   "cell_type": "code",
   "execution_count": 5,
   "id": "1b256a90",
   "metadata": {},
   "outputs": [
    {
     "name": "stdout",
     "output_type": "stream",
     "text": [
      "<class 'pandas.core.frame.DataFrame'>\n",
      "RangeIndex: 303 entries, 0 to 302\n",
      "Data columns (total 14 columns):\n",
      " #   Column    Non-Null Count  Dtype  \n",
      "---  ------    --------------  -----  \n",
      " 0   age       303 non-null    int64  \n",
      " 1   sex       303 non-null    int64  \n",
      " 2   cp        303 non-null    int64  \n",
      " 3   trestbps  303 non-null    int64  \n",
      " 4   chol      303 non-null    int64  \n",
      " 5   fbs       303 non-null    int64  \n",
      " 6   restecg   303 non-null    int64  \n",
      " 7   thalach   303 non-null    int64  \n",
      " 8   exang     303 non-null    int64  \n",
      " 9   oldpeak   303 non-null    float64\n",
      " 10  slope     303 non-null    int64  \n",
      " 11  ca        303 non-null    int64  \n",
      " 12  thal      303 non-null    int64  \n",
      " 13  target    303 non-null    int64  \n",
      "dtypes: float64(1), int64(13)\n",
      "memory usage: 33.3 KB\n"
     ]
    }
   ],
   "source": [
    "data.info()"
   ]
  },
  {
   "cell_type": "code",
   "execution_count": 6,
   "id": "20873891",
   "metadata": {},
   "outputs": [
    {
     "data": {
      "text/html": [
       "<div>\n",
       "<style scoped>\n",
       "    .dataframe tbody tr th:only-of-type {\n",
       "        vertical-align: middle;\n",
       "    }\n",
       "\n",
       "    .dataframe tbody tr th {\n",
       "        vertical-align: top;\n",
       "    }\n",
       "\n",
       "    .dataframe thead th {\n",
       "        text-align: right;\n",
       "    }\n",
       "</style>\n",
       "<table border=\"1\" class=\"dataframe\">\n",
       "  <thead>\n",
       "    <tr style=\"text-align: right;\">\n",
       "      <th></th>\n",
       "      <th>age</th>\n",
       "      <th>sex</th>\n",
       "      <th>cp</th>\n",
       "      <th>trestbps</th>\n",
       "      <th>chol</th>\n",
       "      <th>fbs</th>\n",
       "      <th>restecg</th>\n",
       "      <th>thalach</th>\n",
       "      <th>exang</th>\n",
       "      <th>oldpeak</th>\n",
       "      <th>slope</th>\n",
       "      <th>ca</th>\n",
       "      <th>thal</th>\n",
       "      <th>target</th>\n",
       "    </tr>\n",
       "  </thead>\n",
       "  <tbody>\n",
       "    <tr>\n",
       "      <th>0</th>\n",
       "      <td>63</td>\n",
       "      <td>1</td>\n",
       "      <td>3</td>\n",
       "      <td>145</td>\n",
       "      <td>233</td>\n",
       "      <td>1</td>\n",
       "      <td>0</td>\n",
       "      <td>150</td>\n",
       "      <td>0</td>\n",
       "      <td>2.3</td>\n",
       "      <td>0</td>\n",
       "      <td>0</td>\n",
       "      <td>1</td>\n",
       "      <td>1</td>\n",
       "    </tr>\n",
       "    <tr>\n",
       "      <th>1</th>\n",
       "      <td>37</td>\n",
       "      <td>1</td>\n",
       "      <td>2</td>\n",
       "      <td>130</td>\n",
       "      <td>250</td>\n",
       "      <td>0</td>\n",
       "      <td>1</td>\n",
       "      <td>187</td>\n",
       "      <td>0</td>\n",
       "      <td>3.5</td>\n",
       "      <td>0</td>\n",
       "      <td>0</td>\n",
       "      <td>2</td>\n",
       "      <td>1</td>\n",
       "    </tr>\n",
       "    <tr>\n",
       "      <th>2</th>\n",
       "      <td>41</td>\n",
       "      <td>0</td>\n",
       "      <td>1</td>\n",
       "      <td>130</td>\n",
       "      <td>204</td>\n",
       "      <td>0</td>\n",
       "      <td>0</td>\n",
       "      <td>172</td>\n",
       "      <td>0</td>\n",
       "      <td>1.4</td>\n",
       "      <td>2</td>\n",
       "      <td>0</td>\n",
       "      <td>2</td>\n",
       "      <td>1</td>\n",
       "    </tr>\n",
       "    <tr>\n",
       "      <th>3</th>\n",
       "      <td>56</td>\n",
       "      <td>1</td>\n",
       "      <td>1</td>\n",
       "      <td>120</td>\n",
       "      <td>236</td>\n",
       "      <td>0</td>\n",
       "      <td>1</td>\n",
       "      <td>178</td>\n",
       "      <td>0</td>\n",
       "      <td>0.8</td>\n",
       "      <td>2</td>\n",
       "      <td>0</td>\n",
       "      <td>2</td>\n",
       "      <td>1</td>\n",
       "    </tr>\n",
       "    <tr>\n",
       "      <th>4</th>\n",
       "      <td>57</td>\n",
       "      <td>0</td>\n",
       "      <td>0</td>\n",
       "      <td>120</td>\n",
       "      <td>354</td>\n",
       "      <td>0</td>\n",
       "      <td>1</td>\n",
       "      <td>163</td>\n",
       "      <td>1</td>\n",
       "      <td>0.6</td>\n",
       "      <td>2</td>\n",
       "      <td>0</td>\n",
       "      <td>2</td>\n",
       "      <td>1</td>\n",
       "    </tr>\n",
       "  </tbody>\n",
       "</table>\n",
       "</div>"
      ],
      "text/plain": [
       "   age  sex  cp  trestbps  chol  fbs  restecg  thalach  exang  oldpeak  slope  \\\n",
       "0   63    1   3       145   233    1        0      150      0      2.3      0   \n",
       "1   37    1   2       130   250    0        1      187      0      3.5      0   \n",
       "2   41    0   1       130   204    0        0      172      0      1.4      2   \n",
       "3   56    1   1       120   236    0        1      178      0      0.8      2   \n",
       "4   57    0   0       120   354    0        1      163      1      0.6      2   \n",
       "\n",
       "   ca  thal  target  \n",
       "0   0     1       1  \n",
       "1   0     2       1  \n",
       "2   0     2       1  \n",
       "3   0     2       1  \n",
       "4   0     2       1  "
      ]
     },
     "execution_count": 6,
     "metadata": {},
     "output_type": "execute_result"
    }
   ],
   "source": [
    "data.head()"
   ]
  },
  {
   "cell_type": "code",
   "execution_count": 7,
   "id": "51c13125",
   "metadata": {},
   "outputs": [
    {
     "data": {
      "text/plain": [
       "(303, 14)"
      ]
     },
     "execution_count": 7,
     "metadata": {},
     "output_type": "execute_result"
    }
   ],
   "source": [
    "data.shape"
   ]
  },
  {
   "cell_type": "code",
   "execution_count": 8,
   "id": "c95f5aa2",
   "metadata": {},
   "outputs": [
    {
     "data": {
      "text/plain": [
       "age         0\n",
       "sex         0\n",
       "cp          0\n",
       "trestbps    0\n",
       "chol        0\n",
       "fbs         0\n",
       "restecg     0\n",
       "thalach     0\n",
       "exang       0\n",
       "oldpeak     0\n",
       "slope       0\n",
       "ca          0\n",
       "thal        0\n",
       "target      0\n",
       "dtype: int64"
      ]
     },
     "execution_count": 8,
     "metadata": {},
     "output_type": "execute_result"
    }
   ],
   "source": [
    "# SEx= \"1\" for Male\n",
    "# Sex= \"0\" for Female\n",
    "# fasting sugar fbs > 120 =1 otherwise 0\n",
    "# thalach maximum heart rate received\n",
    "# exang exercise induced angina (sort of heart attack) 1 --> Yes\n",
    "# ca: major blood vessals 0-3\n",
    "data.isnull().sum()"
   ]
  },
  {
   "cell_type": "code",
   "execution_count": 9,
   "id": "2ed652e0",
   "metadata": {},
   "outputs": [
    {
     "data": {
      "text/plain": [
       "<AxesSubplot:>"
      ]
     },
     "execution_count": 9,
     "metadata": {},
     "output_type": "execute_result"
    },
    {
     "data": {
      "image/png": "[encoded data removed]",
      "text/plain": [
       "<Figure size 432x288 with 1 Axes>"
      ]
     },
     "metadata": {
      "needs_background": "light"
     },
     "output_type": "display_data"
    }
   ],
   "source": [
    "data[\"age\"].hist(grid=True,bins=10)"
   ]
  },
  {
   "cell_type": "code",
   "execution_count": 10,
   "id": "d846efbe",
   "metadata": {},
   "outputs": [
    {
     "name": "stderr",
     "output_type": "stream",
     "text": [
      "C:\\Users\\Kanishu\\anaconda3\\lib\\site-packages\\seaborn\\distributions.py:2619: FutureWarning: `distplot` is a deprecated function and will be removed in a future version. Please adapt your code to use either `displot` (a figure-level function with similar flexibility) or `histplot` (an axes-level function for histograms).\n",
      "  warnings.warn(msg, FutureWarning)\n"
     ]
    },
    {
     "data": {
      "text/plain": [
       "<AxesSubplot:xlabel='age', ylabel='Density'>"
      ]
     },
     "execution_count": 10,
     "metadata": {},
     "output_type": "execute_result"
    },
    {
     "data": {
      "image/png": "[encoded data removed]",
      "text/plain": [
       "<Figure size 432x288 with 1 Axes>"
      ]
     },
     "metadata": {
      "needs_background": "light"
     },
     "output_type": "display_data"
    }
   ],
   "source": [
    "sns.distplot(data[\"age\"])"
   ]
  },
  {
   "cell_type": "code",
   "execution_count": 11,
   "id": "c3f01069",
   "metadata": {},
   "outputs": [
    {
     "data": {
      "text/plain": [
       "1    165\n",
       "0    138\n",
       "Name: target, dtype: int64"
      ]
     },
     "execution_count": 11,
     "metadata": {},
     "output_type": "execute_result"
    }
   ],
   "source": [
    "data[\"target\"].value_counts()"
   ]
  },
  {
   "cell_type": "code",
   "execution_count": 12,
   "id": "466d422e",
   "metadata": {},
   "outputs": [
    {
     "data": {
      "text/plain": [
       "age         303\n",
       "sex         303\n",
       "cp          303\n",
       "trestbps    303\n",
       "chol        303\n",
       "fbs         303\n",
       "restecg     303\n",
       "thalach     303\n",
       "exang       303\n",
       "oldpeak     303\n",
       "slope       303\n",
       "ca          303\n",
       "thal        303\n",
       "target      303\n",
       "dtype: int64"
      ]
     },
     "execution_count": 12,
     "metadata": {},
     "output_type": "execute_result"
    }
   ],
   "source": [
    "data.count()"
   ]
  },
  {
   "cell_type": "code",
   "execution_count": 13,
   "id": "31cbc42d",
   "metadata": {},
   "outputs": [
    {
     "data": {
      "text/plain": [
       "Text(0.5, 1.0, 'count of target features by sex')"
      ]
     },
     "execution_count": 13,
     "metadata": {},
     "output_type": "execute_result"
    },
    {
     "data": {
      "image/png": "[encoded data removed]",
      "text/plain": [
       "<Figure size 504x360 with 1 Axes>"
      ]
     },
     "metadata": {
      "needs_background": "light"
     },
     "output_type": "display_data"
    }
   ],
   "source": [
    "plt.rcParams['figure.figsize']=(7,5)\n",
    "sns.countplot(x='target',hue='sex',data=data)\n",
    "plt.title('count of target features by sex')"
   ]
  },
  {
   "cell_type": "markdown",
   "id": "bc961e80",
   "metadata": {},
   "source": [
    "This indicates that the count of healthy males is more than unhhealthy."
   ]
  },
  {
   "cell_type": "code",
   "execution_count": 14,
   "id": "1812cdf0",
   "metadata": {},
   "outputs": [
    {
     "data": {
      "image/png": "[encoded data removed]",
      "text/plain": [
       "<Figure size 504x360 with 1 Axes>"
      ]
     },
     "metadata": {
      "needs_background": "light"
     },
     "output_type": "display_data"
    },
    {
     "data": {
      "text/plain": [
       "{'whiskers': [<matplotlib.lines.Line2D at 0x200a6782d90>,\n",
       "  <matplotlib.lines.Line2D at 0x200a67900a0>],\n",
       " 'caps': [<matplotlib.lines.Line2D at 0x200a6790370>,\n",
       "  <matplotlib.lines.Line2D at 0x200a6790640>],\n",
       " 'boxes': [<matplotlib.lines.Line2D at 0x200a6782ac0>],\n",
       " 'medians': [<matplotlib.lines.Line2D at 0x200a6790910>],\n",
       " 'fliers': [<matplotlib.lines.Line2D at 0x200a6790be0>],\n",
       " 'means': []}"
      ]
     },
     "execution_count": 14,
     "metadata": {},
     "output_type": "execute_result"
    },
    {
     "data": {
      "image/png": "[encoded data removed]",
      "text/plain": [
       "<Figure size 504x360 with 1 Axes>"
      ]
     },
     "metadata": {
      "needs_background": "light"
     },
     "output_type": "display_data"
    }
   ],
   "source": [
    "plt.boxplot(data['chol'])\n",
    "plt.show()\n",
    "plt.boxplot(data['oldpeak'])\n"
   ]
  },
  {
   "cell_type": "markdown",
   "id": "9111ae93",
   "metadata": {},
   "source": [
    "These two are having outliers which may be rremoved. But here we shall move further along with them"
   ]
  },
  {
   "cell_type": "code",
   "execution_count": 15,
   "id": "5c246cff",
   "metadata": {},
   "outputs": [],
   "source": [
    "# Model Building\n",
    "x=data.iloc[:,:-1]\n",
    "y=data['target']"
   ]
  },
  {
   "cell_type": "code",
   "execution_count": 16,
   "id": "3981399a",
   "metadata": {},
   "outputs": [
    {
     "data": {
      "text/html": [
       "<div>\n",
       "<style scoped>\n",
       "    .dataframe tbody tr th:only-of-type {\n",
       "        vertical-align: middle;\n",
       "    }\n",
       "\n",
       "    .dataframe tbody tr th {\n",
       "        vertical-align: top;\n",
       "    }\n",
       "\n",
       "    .dataframe thead th {\n",
       "        text-align: right;\n",
       "    }\n",
       "</style>\n",
       "<table border=\"1\" class=\"dataframe\">\n",
       "  <thead>\n",
       "    <tr style=\"text-align: right;\">\n",
       "      <th></th>\n",
       "      <th>age</th>\n",
       "      <th>sex</th>\n",
       "      <th>cp</th>\n",
       "      <th>trestbps</th>\n",
       "      <th>chol</th>\n",
       "      <th>fbs</th>\n",
       "      <th>restecg</th>\n",
       "      <th>thalach</th>\n",
       "      <th>exang</th>\n",
       "      <th>oldpeak</th>\n",
       "      <th>slope</th>\n",
       "      <th>ca</th>\n",
       "      <th>thal</th>\n",
       "    </tr>\n",
       "  </thead>\n",
       "  <tbody>\n",
       "    <tr>\n",
       "      <th>0</th>\n",
       "      <td>63</td>\n",
       "      <td>1</td>\n",
       "      <td>3</td>\n",
       "      <td>145</td>\n",
       "      <td>233</td>\n",
       "      <td>1</td>\n",
       "      <td>0</td>\n",
       "      <td>150</td>\n",
       "      <td>0</td>\n",
       "      <td>2.3</td>\n",
       "      <td>0</td>\n",
       "      <td>0</td>\n",
       "      <td>1</td>\n",
       "    </tr>\n",
       "    <tr>\n",
       "      <th>1</th>\n",
       "      <td>37</td>\n",
       "      <td>1</td>\n",
       "      <td>2</td>\n",
       "      <td>130</td>\n",
       "      <td>250</td>\n",
       "      <td>0</td>\n",
       "      <td>1</td>\n",
       "      <td>187</td>\n",
       "      <td>0</td>\n",
       "      <td>3.5</td>\n",
       "      <td>0</td>\n",
       "      <td>0</td>\n",
       "      <td>2</td>\n",
       "    </tr>\n",
       "    <tr>\n",
       "      <th>2</th>\n",
       "      <td>41</td>\n",
       "      <td>0</td>\n",
       "      <td>1</td>\n",
       "      <td>130</td>\n",
       "      <td>204</td>\n",
       "      <td>0</td>\n",
       "      <td>0</td>\n",
       "      <td>172</td>\n",
       "      <td>0</td>\n",
       "      <td>1.4</td>\n",
       "      <td>2</td>\n",
       "      <td>0</td>\n",
       "      <td>2</td>\n",
       "    </tr>\n",
       "    <tr>\n",
       "      <th>3</th>\n",
       "      <td>56</td>\n",
       "      <td>1</td>\n",
       "      <td>1</td>\n",
       "      <td>120</td>\n",
       "      <td>236</td>\n",
       "      <td>0</td>\n",
       "      <td>1</td>\n",
       "      <td>178</td>\n",
       "      <td>0</td>\n",
       "      <td>0.8</td>\n",
       "      <td>2</td>\n",
       "      <td>0</td>\n",
       "      <td>2</td>\n",
       "    </tr>\n",
       "    <tr>\n",
       "      <th>4</th>\n",
       "      <td>57</td>\n",
       "      <td>0</td>\n",
       "      <td>0</td>\n",
       "      <td>120</td>\n",
       "      <td>354</td>\n",
       "      <td>0</td>\n",
       "      <td>1</td>\n",
       "      <td>163</td>\n",
       "      <td>1</td>\n",
       "      <td>0.6</td>\n",
       "      <td>2</td>\n",
       "      <td>0</td>\n",
       "      <td>2</td>\n",
       "    </tr>\n",
       "    <tr>\n",
       "      <th>...</th>\n",
       "      <td>...</td>\n",
       "      <td>...</td>\n",
       "      <td>...</td>\n",
       "      <td>...</td>\n",
       "      <td>...</td>\n",
       "      <td>...</td>\n",
       "      <td>...</td>\n",
       "      <td>...</td>\n",
       "      <td>...</td>\n",
       "      <td>...</td>\n",
       "      <td>...</td>\n",
       "      <td>...</td>\n",
       "      <td>...</td>\n",
       "    </tr>\n",
       "    <tr>\n",
       "      <th>298</th>\n",
       "      <td>57</td>\n",
       "      <td>0</td>\n",
       "      <td>0</td>\n",
       "      <td>140</td>\n",
       "      <td>241</td>\n",
       "      <td>0</td>\n",
       "      <td>1</td>\n",
       "      <td>123</td>\n",
       "      <td>1</td>\n",
       "      <td>0.2</td>\n",
       "      <td>1</td>\n",
       "      <td>0</td>\n",
       "      <td>3</td>\n",
       "    </tr>\n",
       "    <tr>\n",
       "      <th>299</th>\n",
       "      <td>45</td>\n",
       "      <td>1</td>\n",
       "      <td>3</td>\n",
       "      <td>110</td>\n",
       "      <td>264</td>\n",
       "      <td>0</td>\n",
       "      <td>1</td>\n",
       "      <td>132</td>\n",
       "      <td>0</td>\n",
       "      <td>1.2</td>\n",
       "      <td>1</td>\n",
       "      <td>0</td>\n",
       "      <td>3</td>\n",
       "    </tr>\n",
       "    <tr>\n",
       "      <th>300</th>\n",
       "      <td>68</td>\n",
       "      <td>1</td>\n",
       "      <td>0</td>\n",
       "      <td>144</td>\n",
       "      <td>193</td>\n",
       "      <td>1</td>\n",
       "      <td>1</td>\n",
       "      <td>141</td>\n",
       "      <td>0</td>\n",
       "      <td>3.4</td>\n",
       "      <td>1</td>\n",
       "      <td>2</td>\n",
       "      <td>3</td>\n",
       "    </tr>\n",
       "    <tr>\n",
       "      <th>301</th>\n",
       "      <td>57</td>\n",
       "      <td>1</td>\n",
       "      <td>0</td>\n",
       "      <td>130</td>\n",
       "      <td>131</td>\n",
       "      <td>0</td>\n",
       "      <td>1</td>\n",
       "      <td>115</td>\n",
       "      <td>1</td>\n",
       "      <td>1.2</td>\n",
       "      <td>1</td>\n",
       "      <td>1</td>\n",
       "      <td>3</td>\n",
       "    </tr>\n",
       "    <tr>\n",
       "      <th>302</th>\n",
       "      <td>57</td>\n",
       "      <td>0</td>\n",
       "      <td>1</td>\n",
       "      <td>130</td>\n",
       "      <td>236</td>\n",
       "      <td>0</td>\n",
       "      <td>0</td>\n",
       "      <td>174</td>\n",
       "      <td>0</td>\n",
       "      <td>0.0</td>\n",
       "      <td>1</td>\n",
       "      <td>1</td>\n",
       "      <td>2</td>\n",
       "    </tr>\n",
       "  </tbody>\n",
       "</table>\n",
       "<p>303 rows × 13 columns</p>\n",
       "</div>"
      ],
      "text/plain": [
       "     age  sex  cp  trestbps  chol  fbs  restecg  thalach  exang  oldpeak  \\\n",
       "0     63    1   3       145   233    1        0      150      0      2.3   \n",
       "1     37    1   2       130   250    0        1      187      0      3.5   \n",
       "2     41    0   1       130   204    0        0      172      0      1.4   \n",
       "3     56    1   1       120   236    0        1      178      0      0.8   \n",
       "4     57    0   0       120   354    0        1      163      1      0.6   \n",
       "..   ...  ...  ..       ...   ...  ...      ...      ...    ...      ...   \n",
       "298   57    0   0       140   241    0        1      123      1      0.2   \n",
       "299   45    1   3       110   264    0        1      132      0      1.2   \n",
       "300   68    1   0       144   193    1        1      141      0      3.4   \n",
       "301   57    1   0       130   131    0        1      115      1      1.2   \n",
       "302   57    0   1       130   236    0        0      174      0      0.0   \n",
       "\n",
       "     slope  ca  thal  \n",
       "0        0   0     1  \n",
       "1        0   0     2  \n",
       "2        2   0     2  \n",
       "3        2   0     2  \n",
       "4        2   0     2  \n",
       "..     ...  ..   ...  \n",
       "298      1   0     3  \n",
       "299      1   0     3  \n",
       "300      1   2     3  \n",
       "301      1   1     3  \n",
       "302      1   1     2  \n",
       "\n",
       "[303 rows x 13 columns]"
      ]
     },
     "execution_count": 16,
     "metadata": {},
     "output_type": "execute_result"
    }
   ],
   "source": [
    "x"
   ]
  },
  {
   "cell_type": "code",
   "execution_count": 17,
   "id": "63d05865",
   "metadata": {},
   "outputs": [
    {
     "data": {
      "text/plain": [
       "0      1\n",
       "1      1\n",
       "2      1\n",
       "3      1\n",
       "4      1\n",
       "      ..\n",
       "298    0\n",
       "299    0\n",
       "300    0\n",
       "301    0\n",
       "302    0\n",
       "Name: target, Length: 303, dtype: int64"
      ]
     },
     "execution_count": 17,
     "metadata": {},
     "output_type": "execute_result"
    }
   ],
   "source": [
    "y"
   ]
  },
  {
   "cell_type": "code",
   "execution_count": 18,
   "id": "d67cbccb",
   "metadata": {},
   "outputs": [],
   "source": [
    "from sklearn import tree\n"
   ]
  },
  {
   "cell_type": "code",
   "execution_count": 19,
   "id": "54282955",
   "metadata": {},
   "outputs": [],
   "source": [
    "dtc=tree.DecisionTreeClassifier()"
   ]
  },
  {
   "cell_type": "code",
   "execution_count": 20,
   "id": "58bbba18",
   "metadata": {},
   "outputs": [],
   "source": [
    "from sklearn.model_selection import train_test_split\n",
    "x_train,x_test,y_train,y_test=train_test_split(x,y,train_size=0.7,random_state=None)"
   ]
  },
  {
   "cell_type": "code",
   "execution_count": 21,
   "id": "54279fcf",
   "metadata": {},
   "outputs": [
    {
     "data": {
      "text/plain": [
       "DecisionTreeClassifier()"
      ]
     },
     "execution_count": 21,
     "metadata": {},
     "output_type": "execute_result"
    }
   ],
   "source": [
    "dtc.fit(x_train,y_train)"
   ]
  },
  {
   "cell_type": "code",
   "execution_count": 22,
   "id": "bab298f8",
   "metadata": {},
   "outputs": [],
   "source": [
    "y_pred=dtc.predict(x_test)"
   ]
  },
  {
   "cell_type": "code",
   "execution_count": 23,
   "id": "4c94a1e2",
   "metadata": {},
   "outputs": [],
   "source": [
    "from sklearn.metrics import accuracy_score, confusion_matrix"
   ]
  },
  {
   "cell_type": "code",
   "execution_count": 24,
   "id": "0ef56132",
   "metadata": {},
   "outputs": [
    {
     "data": {
      "text/plain": [
       "0.7252747252747253"
      ]
     },
     "execution_count": 24,
     "metadata": {},
     "output_type": "execute_result"
    }
   ],
   "source": [
    "accuracy_score(y_test,y_pred)"
   ]
  },
  {
   "cell_type": "code",
   "execution_count": 25,
   "id": "2e05bd3b",
   "metadata": {},
   "outputs": [
    {
     "name": "stdout",
     "output_type": "stream",
     "text": [
      "[[30 14]\n",
      " [11 36]]\n"
     ]
    }
   ],
   "source": [
    "print(confusion_matrix(y_test,y_pred))"
   ]
  },
  {
   "cell_type": "code",
   "execution_count": 26,
   "id": "2f36b982",
   "metadata": {},
   "outputs": [
    {
     "name": "stdout",
     "output_type": "stream",
     "text": [
      "the accuracy with depth= 1 is 0.7252747252747253\n",
      "the accuracy with depth= 2 is 0.7362637362637363\n",
      "the accuracy with depth= 3 is 0.8021978021978022\n",
      "the accuracy with depth= 4 is 0.7472527472527473\n",
      "the accuracy with depth= 5 is 0.7362637362637363\n",
      "the accuracy with depth= 6 is 0.7362637362637363\n",
      "the accuracy with depth= 7 is 0.7252747252747253\n",
      "the accuracy with depth= 8 is 0.6813186813186813\n",
      "the accuracy with depth= 9 is 0.7142857142857143\n",
      "the accuracy with depth= 10 is 0.7472527472527473\n",
      "the accuracy with depth= 11 is 0.7252747252747253\n",
      "the accuracy with depth= 12 is 0.7142857142857143\n",
      "the accuracy with depth= 13 is 0.7032967032967034\n",
      "the accuracy with depth= 14 is 0.6813186813186813\n"
     ]
    }
   ],
   "source": [
    "dep=[1,2,3,4,5,6,7,8,9,10,11,12,13,14]\n",
    "for i in dep:\n",
    "    dtc=tree.DecisionTreeClassifier(max_depth=i)\n",
    "    dtc.fit(x_train,y_train)\n",
    "    y_pred=dtc.predict(x_test)\n",
    "    print(\"the accuracy with depth=\",i, \"is\", accuracy_score(y_test,y_pred))\n",
    "    \n",
    "    "
   ]
  },
  {
   "cell_type": "code",
   "execution_count": 27,
   "id": "32621ef5",
   "metadata": {},
   "outputs": [
    {
     "data": {
      "text/html": [
       "<div>\n",
       "<style scoped>\n",
       "    .dataframe tbody tr th:only-of-type {\n",
       "        vertical-align: middle;\n",
       "    }\n",
       "\n",
       "    .dataframe tbody tr th {\n",
       "        vertical-align: top;\n",
       "    }\n",
       "\n",
       "    .dataframe thead th {\n",
       "        text-align: right;\n",
       "    }\n",
       "</style>\n",
       "<table border=\"1\" class=\"dataframe\">\n",
       "  <thead>\n",
       "    <tr style=\"text-align: right;\">\n",
       "      <th></th>\n",
       "      <th>Depth</th>\n",
       "      <th>Accuracy</th>\n",
       "    </tr>\n",
       "  </thead>\n",
       "  <tbody>\n",
       "    <tr>\n",
       "      <th>0</th>\n",
       "      <td>1</td>\n",
       "      <td>0.725275</td>\n",
       "    </tr>\n",
       "    <tr>\n",
       "      <th>1</th>\n",
       "      <td>2</td>\n",
       "      <td>0.736264</td>\n",
       "    </tr>\n",
       "    <tr>\n",
       "      <th>2</th>\n",
       "      <td>3</td>\n",
       "      <td>0.802198</td>\n",
       "    </tr>\n",
       "    <tr>\n",
       "      <th>3</th>\n",
       "      <td>4</td>\n",
       "      <td>0.747253</td>\n",
       "    </tr>\n",
       "    <tr>\n",
       "      <th>4</th>\n",
       "      <td>5</td>\n",
       "      <td>0.769231</td>\n",
       "    </tr>\n",
       "    <tr>\n",
       "      <th>5</th>\n",
       "      <td>6</td>\n",
       "      <td>0.758242</td>\n",
       "    </tr>\n",
       "    <tr>\n",
       "      <th>6</th>\n",
       "      <td>7</td>\n",
       "      <td>0.725275</td>\n",
       "    </tr>\n",
       "    <tr>\n",
       "      <th>7</th>\n",
       "      <td>8</td>\n",
       "      <td>0.747253</td>\n",
       "    </tr>\n",
       "    <tr>\n",
       "      <th>8</th>\n",
       "      <td>9</td>\n",
       "      <td>0.714286</td>\n",
       "    </tr>\n",
       "    <tr>\n",
       "      <th>9</th>\n",
       "      <td>10</td>\n",
       "      <td>0.692308</td>\n",
       "    </tr>\n",
       "    <tr>\n",
       "      <th>10</th>\n",
       "      <td>11</td>\n",
       "      <td>0.714286</td>\n",
       "    </tr>\n",
       "    <tr>\n",
       "      <th>11</th>\n",
       "      <td>12</td>\n",
       "      <td>0.747253</td>\n",
       "    </tr>\n",
       "    <tr>\n",
       "      <th>12</th>\n",
       "      <td>13</td>\n",
       "      <td>0.758242</td>\n",
       "    </tr>\n",
       "    <tr>\n",
       "      <th>13</th>\n",
       "      <td>14</td>\n",
       "      <td>0.725275</td>\n",
       "    </tr>\n",
       "  </tbody>\n",
       "</table>\n",
       "</div>"
      ],
      "text/plain": [
       "    Depth  Accuracy\n",
       "0       1  0.725275\n",
       "1       2  0.736264\n",
       "2       3  0.802198\n",
       "3       4  0.747253\n",
       "4       5  0.769231\n",
       "5       6  0.758242\n",
       "6       7  0.725275\n",
       "7       8  0.747253\n",
       "8       9  0.714286\n",
       "9      10  0.692308\n",
       "10     11  0.714286\n",
       "11     12  0.747253\n",
       "12     13  0.758242\n",
       "13     14  0.725275"
      ]
     },
     "execution_count": 27,
     "metadata": {},
     "output_type": "execute_result"
    }
   ],
   "source": [
    "dep=[1,2,3,4,5,6,7,8,9,10,11,12,13,14]\n",
    "a=[]\n",
    "for i in dep:\n",
    "    dtc=tree.DecisionTreeClassifier(max_depth=i)\n",
    "    dtc.fit(x_train,y_train)\n",
    "    y_pred=dtc.predict(x_test)\n",
    "    a.append(accuracy_score(y_test,y_pred))\n",
    "    \n",
    "pd.DataFrame({\"Depth\":dep,\"Accuracy\":a})"
   ]
  },
  {
   "cell_type": "code",
   "execution_count": 31,
   "id": "ad0d29be",
   "metadata": {},
   "outputs": [
    {
     "data": {
      "text/plain": [
       "[Text(0.5480769230769231, 0.95, 'cp <= 0.5\\ngini = 0.494\\nsamples = 212\\nvalue = [94, 118]\\nclass = a'),\n",
       " Text(0.30128205128205127, 0.85, 'ca <= 0.5\\ngini = 0.402\\nsamples = 104\\nvalue = [75, 29]\\nclass = t'),\n",
       " Text(0.19230769230769232, 0.75, 'thal <= 2.5\\ngini = 0.499\\nsamples = 50\\nvalue = [24, 26]\\nclass = a'),\n",
       " Text(0.10256410256410256, 0.65, 'exang <= 0.5\\ngini = 0.366\\nsamples = 29\\nvalue = [7, 22]\\nclass = a'),\n",
       " Text(0.05128205128205128, 0.55, 'chol <= 316.5\\ngini = 0.105\\nsamples = 18\\nvalue = [1, 17]\\nclass = a'),\n",
       " Text(0.02564102564102564, 0.45, 'gini = 0.0\\nsamples = 16\\nvalue = [0, 16]\\nclass = a'),\n",
       " Text(0.07692307692307693, 0.45, 'slope <= 1.5\\ngini = 0.5\\nsamples = 2\\nvalue = [1, 1]\\nclass = t'),\n",
       " Text(0.05128205128205128, 0.35, 'gini = 0.0\\nsamples = 1\\nvalue = [0, 1]\\nclass = a'),\n",
       " Text(0.10256410256410256, 0.35, 'gini = 0.0\\nsamples = 1\\nvalue = [1, 0]\\nclass = t'),\n",
       " Text(0.15384615384615385, 0.55, 'restecg <= 0.5\\ngini = 0.496\\nsamples = 11\\nvalue = [6, 5]\\nclass = t'),\n",
       " Text(0.1282051282051282, 0.45, 'gini = 0.0\\nsamples = 4\\nvalue = [0, 4]\\nclass = a'),\n",
       " Text(0.1794871794871795, 0.45, 'trestbps <= 115.0\\ngini = 0.245\\nsamples = 7\\nvalue = [6, 1]\\nclass = t'),\n",
       " Text(0.15384615384615385, 0.35, 'gini = 0.0\\nsamples = 1\\nvalue = [0, 1]\\nclass = a'),\n",
       " Text(0.20512820512820512, 0.35, 'gini = 0.0\\nsamples = 6\\nvalue = [6, 0]\\nclass = t'),\n",
       " Text(0.28205128205128205, 0.65, 'oldpeak <= 0.65\\ngini = 0.308\\nsamples = 21\\nvalue = [17, 4]\\nclass = t'),\n",
       " Text(0.2564102564102564, 0.55, 'age <= 42.0\\ngini = 0.5\\nsamples = 8\\nvalue = [4, 4]\\nclass = t'),\n",
       " Text(0.23076923076923078, 0.45, 'gini = 0.0\\nsamples = 3\\nvalue = [3, 0]\\nclass = t'),\n",
       " Text(0.28205128205128205, 0.45, 'sex <= 0.5\\ngini = 0.32\\nsamples = 5\\nvalue = [1, 4]\\nclass = a'),\n",
       " Text(0.2564102564102564, 0.35, 'gini = 0.0\\nsamples = 1\\nvalue = [1, 0]\\nclass = t'),\n",
       " Text(0.3076923076923077, 0.35, 'gini = 0.0\\nsamples = 4\\nvalue = [0, 4]\\nclass = a'),\n",
       " Text(0.3076923076923077, 0.55, 'gini = 0.0\\nsamples = 13\\nvalue = [13, 0]\\nclass = t'),\n",
       " Text(0.41025641025641024, 0.75, 'oldpeak <= 0.4\\ngini = 0.105\\nsamples = 54\\nvalue = [51, 3]\\nclass = t'),\n",
       " Text(0.38461538461538464, 0.65, 'thalach <= 106.5\\ngini = 0.32\\nsamples = 15\\nvalue = [12, 3]\\nclass = t'),\n",
       " Text(0.358974358974359, 0.55, 'gini = 0.0\\nsamples = 1\\nvalue = [0, 1]\\nclass = a'),\n",
       " Text(0.41025641025641024, 0.55, 'trestbps <= 109.0\\ngini = 0.245\\nsamples = 14\\nvalue = [12, 2]\\nclass = t'),\n",
       " Text(0.38461538461538464, 0.45, 'gini = 0.0\\nsamples = 1\\nvalue = [0, 1]\\nclass = a'),\n",
       " Text(0.4358974358974359, 0.45, 'sex <= 0.5\\ngini = 0.142\\nsamples = 13\\nvalue = [12, 1]\\nclass = t'),\n",
       " Text(0.41025641025641024, 0.35, 'gini = 0.0\\nsamples = 1\\nvalue = [0, 1]\\nclass = a'),\n",
       " Text(0.46153846153846156, 0.35, 'gini = 0.0\\nsamples = 12\\nvalue = [12, 0]\\nclass = t'),\n",
       " Text(0.4358974358974359, 0.65, 'gini = 0.0\\nsamples = 39\\nvalue = [39, 0]\\nclass = t'),\n",
       " Text(0.7948717948717948, 0.85, 'thalach <= 152.5\\ngini = 0.29\\nsamples = 108\\nvalue = [19, 89]\\nclass = a'),\n",
       " Text(0.6666666666666666, 0.75, 'thal <= 2.5\\ngini = 0.46\\nsamples = 39\\nvalue = [14, 25]\\nclass = a'),\n",
       " Text(0.6153846153846154, 0.65, 'oldpeak <= 2.45\\ngini = 0.375\\nsamples = 28\\nvalue = [7, 21]\\nclass = a'),\n",
       " Text(0.5897435897435898, 0.55, 'ca <= 1.5\\ngini = 0.311\\nsamples = 26\\nvalue = [5, 21]\\nclass = a'),\n",
       " Text(0.5384615384615384, 0.45, 'age <= 60.0\\ngini = 0.227\\nsamples = 23\\nvalue = [3, 20]\\nclass = a'),\n",
       " Text(0.5128205128205128, 0.35, 'age <= 56.5\\ngini = 0.375\\nsamples = 12\\nvalue = [3, 9]\\nclass = a'),\n",
       " Text(0.48717948717948717, 0.25, 'chol <= 232.5\\ngini = 0.18\\nsamples = 10\\nvalue = [1, 9]\\nclass = a'),\n",
       " Text(0.46153846153846156, 0.15, 'gini = 0.0\\nsamples = 8\\nvalue = [0, 8]\\nclass = a'),\n",
       " Text(0.5128205128205128, 0.15, 'oldpeak <= 0.25\\ngini = 0.5\\nsamples = 2\\nvalue = [1, 1]\\nclass = t'),\n",
       " Text(0.48717948717948717, 0.05, 'gini = 0.0\\nsamples = 1\\nvalue = [1, 0]\\nclass = t'),\n",
       " Text(0.5384615384615384, 0.05, 'gini = 0.0\\nsamples = 1\\nvalue = [0, 1]\\nclass = a'),\n",
       " Text(0.5384615384615384, 0.25, 'gini = 0.0\\nsamples = 2\\nvalue = [2, 0]\\nclass = t'),\n",
       " Text(0.5641025641025641, 0.35, 'gini = 0.0\\nsamples = 11\\nvalue = [0, 11]\\nclass = a'),\n",
       " Text(0.6410256410256411, 0.45, 'chol <= 242.5\\ngini = 0.444\\nsamples = 3\\nvalue = [2, 1]\\nclass = t'),\n",
       " Text(0.6153846153846154, 0.35, 'gini = 0.0\\nsamples = 1\\nvalue = [0, 1]\\nclass = a'),\n",
       " Text(0.6666666666666666, 0.35, 'gini = 0.0\\nsamples = 2\\nvalue = [2, 0]\\nclass = t'),\n",
       " Text(0.6410256410256411, 0.55, 'gini = 0.0\\nsamples = 2\\nvalue = [2, 0]\\nclass = t'),\n",
       " Text(0.717948717948718, 0.65, 'trestbps <= 124.5\\ngini = 0.463\\nsamples = 11\\nvalue = [7, 4]\\nclass = t'),\n",
       " Text(0.6923076923076923, 0.55, 'gini = 0.0\\nsamples = 3\\nvalue = [3, 0]\\nclass = t'),\n",
       " Text(0.7435897435897436, 0.55, 'age <= 63.0\\ngini = 0.5\\nsamples = 8\\nvalue = [4, 4]\\nclass = t'),\n",
       " Text(0.717948717948718, 0.45, 'gini = 0.0\\nsamples = 3\\nvalue = [0, 3]\\nclass = a'),\n",
       " Text(0.7692307692307693, 0.45, 'chol <= 311.0\\ngini = 0.32\\nsamples = 5\\nvalue = [4, 1]\\nclass = t'),\n",
       " Text(0.7435897435897436, 0.35, 'gini = 0.0\\nsamples = 4\\nvalue = [4, 0]\\nclass = t'),\n",
       " Text(0.7948717948717948, 0.35, 'gini = 0.0\\nsamples = 1\\nvalue = [0, 1]\\nclass = a'),\n",
       " Text(0.9230769230769231, 0.75, 'trestbps <= 176.0\\ngini = 0.134\\nsamples = 69\\nvalue = [5, 64]\\nclass = a'),\n",
       " Text(0.8974358974358975, 0.65, 'age <= 63.5\\ngini = 0.111\\nsamples = 68\\nvalue = [4, 64]\\nclass = a'),\n",
       " Text(0.8461538461538461, 0.55, 'oldpeak <= 0.9\\ngini = 0.061\\nsamples = 64\\nvalue = [2, 62]\\nclass = a'),\n",
       " Text(0.8205128205128205, 0.45, 'gini = 0.0\\nsamples = 49\\nvalue = [0, 49]\\nclass = a'),\n",
       " Text(0.8717948717948718, 0.45, 'trestbps <= 125.0\\ngini = 0.231\\nsamples = 15\\nvalue = [2, 13]\\nclass = a'),\n",
       " Text(0.8461538461538461, 0.35, 'chol <= 224.0\\ngini = 0.48\\nsamples = 5\\nvalue = [2, 3]\\nclass = a'),\n",
       " Text(0.8205128205128205, 0.25, 'gini = 0.0\\nsamples = 3\\nvalue = [0, 3]\\nclass = a'),\n",
       " Text(0.8717948717948718, 0.25, 'gini = 0.0\\nsamples = 2\\nvalue = [2, 0]\\nclass = t'),\n",
       " Text(0.8974358974358975, 0.35, 'gini = 0.0\\nsamples = 10\\nvalue = [0, 10]\\nclass = a'),\n",
       " Text(0.9487179487179487, 0.55, 'sex <= 0.5\\ngini = 0.5\\nsamples = 4\\nvalue = [2, 2]\\nclass = t'),\n",
       " Text(0.9230769230769231, 0.45, 'gini = 0.0\\nsamples = 2\\nvalue = [0, 2]\\nclass = a'),\n",
       " Text(0.9743589743589743, 0.45, 'gini = 0.0\\nsamples = 2\\nvalue = [2, 0]\\nclass = t'),\n",
       " Text(0.9487179487179487, 0.65, 'gini = 0.0\\nsamples = 1\\nvalue = [1, 0]\\nclass = t')]"
      ]
     },
     "execution_count": 31,
     "metadata": {},
     "output_type": "execute_result"
    },
    {
     "data": {
      "image/png": "[encoded data removed]",
      "text/plain": [
       "<Figure size 504x360 with 1 Axes>"
      ]
     },
     "metadata": {
      "needs_background": "light"
     },
     "output_type": "display_data"
    }
   ],
   "source": [
    "tree.plot_tree(dtc,feature_names=x.columns,class_names='target',filled=True)"
   ]
  },
  {
   "cell_type": "code",
   "execution_count": null,
   "id": "ce3340f3",
   "metadata": {},
   "outputs": [],
   "source": []
  }
 ],
 "metadata": {
  "kernelspec": {
   "display_name": "Python 3 (ipykernel)",
   "language": "python",
   "name": "python3"
  },
  "language_info": {
   "codemirror_mode": {
    "name": "ipython",
    "version": 3
   },
   "file_extension": ".py",
   "mimetype": "text/x-python",
   "name": "python",
   "nbconvert_exporter": "python",
   "pygments_lexer": "ipython3",
   "version": "3.9.12"
  }
 },
 "nbformat": 4,
 "nbformat_minor": 5
}
